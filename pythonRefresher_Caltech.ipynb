{
  "nbformat": 4,
  "nbformat_minor": 0,
  "metadata": {
    "colab": {
      "name": "pythonRefresherAnswers.ipynb",
      "provenance": [],
      "collapsed_sections": [
        "TcpmMIKT8LBh"
      ],
      "include_colab_link": true
    },
    "kernelspec": {
      "name": "python3",
      "display_name": "Python 3"
    },
    "language_info": {
      "name": "python"
    }
  },
  "cells": [
    {
      "cell_type": "markdown",
      "metadata": {
        "id": "view-in-github",
        "colab_type": "text"
      },
      "source": [
        "<a href=\"https://colab.research.google.com/github/kball2/kb_bootcamp/blob/main/pythonRefresher_Caltech.ipynb\" target=\"_parent\"><img src=\"https://colab.research.google.com/assets/colab-badge.svg\" alt=\"Open In Colab\"/></a>"
      ]
    },
    {
      "cell_type": "markdown",
      "metadata": {
        "id": "Xf3C6KWhEt-M"
      },
      "source": [
        "**Working with Colab Notebooks**\n",
        "\n",
        "Python 3.7 environment already set up.\n",
        "Default packages installed\n",
        "\n",
        "https://www.python.org/downloads/ "
      ]
    },
    {
      "cell_type": "code",
      "metadata": {
        "id": "ZXGLfT5mEqV2"
      },
      "source": [
        "# All comments use the # symbol\n"
      ],
      "execution_count": null,
      "outputs": []
    },
    {
      "cell_type": "markdown",
      "metadata": {
        "id": "u00RYDUlGu-T"
      },
      "source": [
        "## **Variables and Data Types**"
      ]
    },
    {
      "cell_type": "markdown",
      "metadata": {
        "id": "v-h-je1vHItn"
      },
      "source": [
        "Numerical Types"
      ]
    },
    {
      "cell_type": "code",
      "metadata": {
        "id": "SAE_gD-GG0KX"
      },
      "source": [
        "x = 10 #Integers\n",
        "y = -50\n",
        "\n",
        "\n",
        "a = 10.0 #Float\n",
        "\n",
        "\n",
        "c = 3.14j #Complex\n",
        "\n",
        "\n"
      ],
      "execution_count": 2,
      "outputs": []
    },
    {
      "cell_type": "code",
      "metadata": {
        "id": "v4b3DzBtH-Ld",
        "colab": {
          "base_uri": "https://localhost:8080/"
        },
        "outputId": "130bab41-dd41-4c30-883f-bdd216054259"
      },
      "source": [
        "#Print function (built-in)\n",
        "print(x)\n",
        "print(x)\n",
        "\n",
        "print(a)\n",
        "\n",
        "print(c)"
      ],
      "execution_count": 3,
      "outputs": [
        {
          "output_type": "stream",
          "name": "stdout",
          "text": [
            "10\n",
            "10\n",
            "10.0\n",
            "3.14j\n"
          ]
        }
      ]
    },
    {
      "cell_type": "code",
      "metadata": {
        "id": "5Xy-EQlPH_8U"
      },
      "source": [
        "#Assign multiple variables at the same time\n",
        "\n",
        "a = b = c = 5\n",
        "\n",
        "i,j,k = 1,2,3"
      ],
      "execution_count": 4,
      "outputs": []
    },
    {
      "cell_type": "code",
      "metadata": {
        "id": "HAIWQQLcIPJO",
        "outputId": "1bdc844e-8228-435f-a468-7c13e02279a9",
        "colab": {
          "base_uri": "https://localhost:8080/"
        }
      },
      "source": [
        "print(i)\n",
        "print(a)"
      ],
      "execution_count": 5,
      "outputs": [
        {
          "output_type": "stream",
          "name": "stdout",
          "text": [
            "1\n",
            "5\n"
          ]
        }
      ]
    },
    {
      "cell_type": "markdown",
      "metadata": {
        "id": "DZvja8C1Hrbe"
      },
      "source": [
        "Strings"
      ]
    },
    {
      "cell_type": "code",
      "metadata": {
        "colab": {
          "base_uri": "https://localhost:8080/"
        },
        "id": "9cLUs5OnHR40",
        "outputId": "50c92f4f-0cf3-4b2d-ef9f-c814c8853a7d"
      },
      "source": [
        "word = 'Hello World!'\n",
        "\n",
        "print(word)          # Prints complete string\n",
        "print(word[0])       # Prints first character of the string\n",
        "print(word[2:5])"
      ],
      "execution_count": 6,
      "outputs": [
        {
          "output_type": "stream",
          "name": "stdout",
          "text": [
            "Hello World!\n",
            "H\n",
            "llo\n"
          ]
        }
      ]
    },
    {
      "cell_type": "code",
      "metadata": {
        "id": "ORahg7muUvFH"
      },
      "source": [
        "#Indexing starts at 0\n",
        "#0:5 is 0,1,2,3,4"
      ],
      "execution_count": null,
      "outputs": []
    },
    {
      "cell_type": "markdown",
      "metadata": {
        "id": "hFUk4qCrHsQu"
      },
      "source": [
        "Lists: Can change their size and their elements"
      ]
    },
    {
      "cell_type": "code",
      "metadata": {
        "colab": {
          "base_uri": "https://localhost:8080/"
        },
        "id": "eVCoUlQgHskZ",
        "outputId": "0624ef97-f0ac-4549-ffc5-676e0466eb8f"
      },
      "source": [
        "l = [ 'abcd', 786 , 2.23, 'john', 70.2 ]\n",
        "small_l = [123, 'john']\n",
        "\n",
        "print(l)         # Prints complete list\n",
        "print(l[0])      # Prints first element of the list\n",
        "print(l[1:3])     # Prints elements starting from 2nd till 3rd \n",
        "print(l[2:])     # Prints elements starting from 3rd element\n"
      ],
      "execution_count": 7,
      "outputs": [
        {
          "output_type": "stream",
          "name": "stdout",
          "text": [
            "['abcd', 786, 2.23, 'john', 70.2]\n",
            "abcd\n",
            "[786, 2.23]\n",
            "[2.23, 'john', 70.2]\n"
          ]
        }
      ]
    },
    {
      "cell_type": "code",
      "metadata": {
        "colab": {
          "base_uri": "https://localhost:8080/"
        },
        "id": "-hsxavohKp6X",
        "outputId": "8dfe800a-28d3-40d1-e695-86c6ca6f760e"
      },
      "source": [
        "print(small_l * 2)  # Prints list two times\n",
        "print(l + small_l) # Prints concatenated lists"
      ],
      "execution_count": 8,
      "outputs": [
        {
          "output_type": "stream",
          "name": "stdout",
          "text": [
            "[123, 'john', 123, 'john']\n",
            "['abcd', 786, 2.23, 'john', 70.2, 123, 'john']\n"
          ]
        }
      ]
    },
    {
      "cell_type": "code",
      "metadata": {
        "colab": {
          "base_uri": "https://localhost:8080/"
        },
        "id": "AwDYqF20KzKr",
        "outputId": "1f89ea28-29c5-4792-8cb1-a4c049820a9a"
      },
      "source": [
        "small_l == 123 # is this object equal to this whole object\n",
        "# 123 in small_l will search the list for the indicated value"
      ],
      "execution_count": 11,
      "outputs": [
        {
          "output_type": "execute_result",
          "data": {
            "text/plain": [
              "False"
            ]
          },
          "metadata": {},
          "execution_count": 11
        }
      ]
    },
    {
      "cell_type": "code",
      "metadata": {
        "id": "l7pawKCBKXQY"
      },
      "source": [
        "#Don't call variables 'list' (or str)\n",
        "#list = [1,2,3]\n",
        "\n",
        "#d = list([1,2,3]) will give an error"
      ],
      "execution_count": null,
      "outputs": []
    },
    {
      "cell_type": "markdown",
      "metadata": {
        "id": "XZISIhswHtJB"
      },
      "source": [
        "Tuples: Essentially 'Read-only'"
      ]
    },
    {
      "cell_type": "code",
      "metadata": {
        "colab": {
          "base_uri": "https://localhost:8080/"
        },
        "id": "tvsV48cmHuCp",
        "outputId": "f7d74a45-b7b2-4bbd-a26d-142c7270d1a0"
      },
      "source": [
        "tup = ( 'abcd', 786 , 2.23, 'john', 70.2  )\n",
        "small_tup = (123, 'john')\n",
        "\n",
        "print(tup)              # Prints the complete tuple\n",
        "print(tup[0])         # Prints first element of the tuple\n",
        "print(tup[1:3])          # Prints elements of the tuple starting from 2nd till 3rd \n",
        "print(tup[2:])         # Prints elements of the tuple starting from 3rd element\n",
        "print(small_tup * 2)       # Prints the contents of the tuple twice\n",
        "print(tup+ small_tup)   # Prints concatenated tuples"
      ],
      "execution_count": 12,
      "outputs": [
        {
          "output_type": "stream",
          "name": "stdout",
          "text": [
            "('abcd', 786, 2.23, 'john', 70.2)\n",
            "abcd\n",
            "(786, 2.23)\n",
            "(2.23, 'john', 70.2)\n",
            "(123, 'john', 123, 'john')\n",
            "('abcd', 786, 2.23, 'john', 70.2, 123, 'john')\n"
          ]
        }
      ]
    },
    {
      "cell_type": "code",
      "metadata": {
        "colab": {
          "base_uri": "https://localhost:8080/",
          "height": 181
        },
        "id": "8COqwwWqQPSd",
        "outputId": "7d690b42-bd75-4e3f-e7b0-66cc984a54ad"
      },
      "source": [
        "#Cannot do (replace/change indexed value within tuple)\n",
        "#tup[2] = 5"
      ],
      "execution_count": null,
      "outputs": [
        {
          "output_type": "error",
          "ename": "TypeError",
          "evalue": "ignored",
          "traceback": [
            "\u001b[0;31m---------------------------------------------------------------------------\u001b[0m",
            "\u001b[0;31mTypeError\u001b[0m                                 Traceback (most recent call last)",
            "\u001b[0;32m<ipython-input-12-aef1ea126a4c>\u001b[0m in \u001b[0;36m<module>\u001b[0;34m()\u001b[0m\n\u001b[1;32m      1\u001b[0m \u001b[0;31m#Cannot do\u001b[0m\u001b[0;34m\u001b[0m\u001b[0;34m\u001b[0m\u001b[0;34m\u001b[0m\u001b[0m\n\u001b[0;32m----> 2\u001b[0;31m \u001b[0mtup\u001b[0m\u001b[0;34m[\u001b[0m\u001b[0;36m2\u001b[0m\u001b[0;34m]\u001b[0m \u001b[0;34m=\u001b[0m \u001b[0;36m5\u001b[0m\u001b[0;34m\u001b[0m\u001b[0;34m\u001b[0m\u001b[0m\n\u001b[0m",
            "\u001b[0;31mTypeError\u001b[0m: 'tuple' object does not support item assignment"
          ]
        }
      ]
    },
    {
      "cell_type": "markdown",
      "metadata": {
        "id": "YhsRGyEWHuZv"
      },
      "source": [
        "Dictionaries"
      ]
    },
    {
      "cell_type": "code",
      "metadata": {
        "colab": {
          "base_uri": "https://localhost:8080/"
        },
        "id": "3cs1E4blHvJZ",
        "outputId": "ec341f99-dba9-4dc4-a8ff-87de86eac9e5"
      },
      "source": [
        "grads = {} # empty dictionary\n",
        "grads['Amy'] = \"G4\" # assign definition/value to one key\n",
        "grads['James']    = \"G2\" # assign definition/value to another key\n",
        "grads['Total'] = 2\n",
        "\n",
        "\n",
        "\n",
        "print(grads)      # Prints complete dictionary\n",
        "print(grads['Amy'])    # Prints value for Amy key\n",
        "\n",
        "print(grads.keys())   # Prints all the keys\n",
        "print(grads.values()) # Prints all the values"
      ],
      "execution_count": 15,
      "outputs": [
        {
          "output_type": "stream",
          "name": "stdout",
          "text": [
            "{'Amy': 'G4', 'James': 'G2', 'Total': 2}\n",
            "G4\n",
            "dict_keys(['Amy', 'James', 'Total'])\n",
            "dict_values(['G4', 'G2', 2])\n"
          ]
        }
      ]
    },
    {
      "cell_type": "markdown",
      "metadata": {
        "id": "gniwE8r_Hvg2"
      },
      "source": [
        "Conversions"
      ]
    },
    {
      "cell_type": "code",
      "metadata": {
        "colab": {
          "base_uri": "https://localhost:8080/"
        },
        "id": "dlHkefFCS1sk",
        "outputId": "1acd2b1d-860c-4ac2-d8d0-ec1ca7f1ed6f"
      },
      "source": [
        "#int(), str(), list() all functions\n",
        "\n",
        "f = 32.9\n",
        "int(f) #Not a rounding function\n"
      ],
      "execution_count": null,
      "outputs": [
        {
          "output_type": "execute_result",
          "data": {
            "text/plain": [
              "32"
            ]
          },
          "metadata": {},
          "execution_count": 22
        }
      ]
    },
    {
      "cell_type": "code",
      "metadata": {
        "colab": {
          "base_uri": "https://localhost:8080/",
          "height": 35
        },
        "id": "n9z1fT2tTqAb",
        "outputId": "8aef3b38-4092-4e9d-950b-4bb2e72952f2"
      },
      "source": [
        "i = 32\n",
        "str(i) # turn integer to string"
      ],
      "execution_count": null,
      "outputs": [
        {
          "output_type": "execute_result",
          "data": {
            "application/vnd.google.colaboratory.intrinsic+json": {
              "type": "string"
            },
            "text/plain": [
              "'32'"
            ]
          },
          "metadata": {},
          "execution_count": 23
        }
      ]
    },
    {
      "cell_type": "code",
      "metadata": {
        "colab": {
          "base_uri": "https://localhost:8080/",
          "height": 35
        },
        "id": "FnJyz1i_Trko",
        "outputId": "0a70ca9c-0842-4014-c447-d027ce6e32a8"
      },
      "source": [
        "str(i) + str(i) # '+' also works as concatenation for strings"
      ],
      "execution_count": null,
      "outputs": [
        {
          "output_type": "execute_result",
          "data": {
            "application/vnd.google.colaboratory.intrinsic+json": {
              "type": "string"
            },
            "text/plain": [
              "'3232'"
            ]
          },
          "metadata": {},
          "execution_count": 24
        }
      ]
    },
    {
      "cell_type": "code",
      "metadata": {
        "id": "YJLQVbjq3F8Y",
        "outputId": "b5295e29-94a9-4ee5-d5ea-12487b07d14d",
        "colab": {
          "base_uri": "https://localhost:8080/"
        }
      },
      "source": [
        "print('This is i:',i)"
      ],
      "execution_count": 13,
      "outputs": [
        {
          "output_type": "stream",
          "name": "stdout",
          "text": [
            "This is i: 1\n"
          ]
        }
      ]
    },
    {
      "cell_type": "markdown",
      "metadata": {
        "id": "JZx9qhimS2Mt"
      },
      "source": [
        "**Task 1**"
      ]
    },
    {
      "cell_type": "code",
      "metadata": {
        "colab": {
          "base_uri": "https://localhost:8080/",
          "height": 164
        },
        "id": "ceMyCsVCHwSp",
        "outputId": "3e57c904-f654-47a4-8bee-9afe016729a2"
      },
      "source": [
        "#Convert keys to a list\n",
        "#grads.keys()[0]"
      ],
      "execution_count": null,
      "outputs": [
        {
          "output_type": "error",
          "ename": "TypeError",
          "evalue": "ignored",
          "traceback": [
            "\u001b[0;31m---------------------------------------------------------------------------\u001b[0m",
            "\u001b[0;31mTypeError\u001b[0m                                 Traceback (most recent call last)",
            "\u001b[0;32m<ipython-input-15-c4871651406b>\u001b[0m in \u001b[0;36m<module>\u001b[0;34m()\u001b[0m\n\u001b[0;32m----> 1\u001b[0;31m \u001b[0mgrads\u001b[0m\u001b[0;34m.\u001b[0m\u001b[0mkeys\u001b[0m\u001b[0;34m(\u001b[0m\u001b[0;34m)\u001b[0m\u001b[0;34m[\u001b[0m\u001b[0;36m0\u001b[0m\u001b[0;34m]\u001b[0m\u001b[0;34m\u001b[0m\u001b[0;34m\u001b[0m\u001b[0m\n\u001b[0m",
            "\u001b[0;31mTypeError\u001b[0m: 'dict_keys' object is not subscriptable"
          ]
        }
      ]
    },
    {
      "cell_type": "code",
      "metadata": {
        "id": "bqD2TggqT3q1",
        "outputId": "2ec97421-9e05-45e5-af9e-584ec942c936",
        "colab": {
          "base_uri": "https://localhost:8080/"
        }
      },
      "source": [
        "#Answer\n",
        "grad_l = list(grads.keys())\n",
        "grad_l"
      ],
      "execution_count": 17,
      "outputs": [
        {
          "output_type": "execute_result",
          "data": {
            "text/plain": [
              "['Amy', 'James', 'Total']"
            ]
          },
          "metadata": {},
          "execution_count": 17
        }
      ]
    },
    {
      "cell_type": "code",
      "metadata": {
        "colab": {
          "base_uri": "https://localhost:8080/"
        },
        "id": "CYCVgyF02gWb",
        "outputId": "0d2b17c6-e6b1-4d23-805c-c82f3454067e"
      },
      "source": [
        "#Use type() to check type of variable\n",
        "#type(2)\n",
        "type(grad_l)"
      ],
      "execution_count": 18,
      "outputs": [
        {
          "output_type": "execute_result",
          "data": {
            "text/plain": [
              "list"
            ]
          },
          "metadata": {},
          "execution_count": 18
        }
      ]
    },
    {
      "cell_type": "markdown",
      "metadata": {
        "id": "1eSXnVfkIcK4"
      },
      "source": [
        "**Task 2** \n",
        "String/list manipulation"
      ]
    },
    {
      "cell_type": "code",
      "metadata": {
        "id": "GY_1DUnlIdNk"
      },
      "source": [
        "#Change filename ending from csv to pdf, hint: you cannot change the items in a string\n",
        "fname = 'test.csv'\n"
      ],
      "execution_count": 19,
      "outputs": []
    },
    {
      "cell_type": "code",
      "metadata": {
        "colab": {
          "base_uri": "https://localhost:8080/",
          "height": 37
        },
        "id": "EQdXJs78T47p",
        "outputId": "026afb76-eac8-4cd6-e464-5f150707bbb1"
      },
      "source": [
        "#Answer\n",
        "name = fname[0:5] + 'pdf'\n",
        "name\n",
        "#or\n",
        "name = fname.replace('csv','pdf')\n",
        "name\n"
      ],
      "execution_count": 24,
      "outputs": [
        {
          "output_type": "execute_result",
          "data": {
            "application/vnd.google.colaboratory.intrinsic+json": {
              "type": "string"
            },
            "text/plain": [
              "'test.pdf'"
            ]
          },
          "metadata": {},
          "execution_count": 24
        }
      ]
    },
    {
      "cell_type": "markdown",
      "metadata": {
        "id": "iFqb2uQiLB5f"
      },
      "source": [
        "## **Loops and List Comprehension**"
      ]
    },
    {
      "cell_type": "markdown",
      "metadata": {
        "id": "maRBztf1VXpk"
      },
      "source": [
        "Operators"
      ]
    },
    {
      "cell_type": "code",
      "metadata": {
        "id": "EjYyBE_7VZJD"
      },
      "source": [
        "x = 1 + 2\n",
        "y = 1/2\n",
        "z = 4%2\n",
        "a = 1*2\n",
        "\n",
        "\n"
      ],
      "execution_count": 25,
      "outputs": []
    },
    {
      "cell_type": "code",
      "metadata": {
        "colab": {
          "base_uri": "https://localhost:8080/"
        },
        "id": "ghVFKuWkWCol",
        "outputId": "751bd24b-6706-4098-d6e3-f77c83d12997"
      },
      "source": [
        "print(x)\n",
        "print(y)\n",
        "print(z)\n",
        "print(a)"
      ],
      "execution_count": 26,
      "outputs": [
        {
          "output_type": "stream",
          "name": "stdout",
          "text": [
            "3\n",
            "0.5\n",
            "0\n",
            "2\n"
          ]
        }
      ]
    },
    {
      "cell_type": "code",
      "metadata": {
        "colab": {
          "base_uri": "https://localhost:8080/"
        },
        "id": "ZnUz0eL_V-_1",
        "outputId": "75e265f1-8280-4ff5-db7a-b50e6176b640"
      },
      "source": [
        "print(a == z) # is a equal to z\n",
        "\n",
        "print(a != z) # is a not equal to z\n",
        "\n",
        "print(a > z) # is a greater than z\n",
        "\n",
        "print(a <= z) # is a less than or equal to z"
      ],
      "execution_count": 27,
      "outputs": [
        {
          "output_type": "stream",
          "name": "stdout",
          "text": [
            "False\n",
            "True\n",
            "True\n",
            "False\n"
          ]
        }
      ]
    },
    {
      "cell_type": "code",
      "metadata": {
        "colab": {
          "base_uri": "https://localhost:8080/"
        },
        "id": "p-aFUVc4LD_L",
        "outputId": "c10c5e28-d975-4eac-dabb-b945b8d2f01c"
      },
      "source": [
        "~(a == z)"
      ],
      "execution_count": 28,
      "outputs": [
        {
          "output_type": "execute_result",
          "data": {
            "text/plain": [
              "-1"
            ]
          },
          "metadata": {},
          "execution_count": 28
        }
      ]
    },
    {
      "cell_type": "code",
      "metadata": {
        "colab": {
          "base_uri": "https://localhost:8080/"
        },
        "id": "ua4Ge2j8WZWG",
        "outputId": "d0ff83fb-6e30-4d91-8e0a-d74631f864f9"
      },
      "source": [
        "print((a == z) & (a != z)) #&, |, ^ # only one is true\n",
        "\n",
        "print((a != z) & (a > z)) #&, |, ^ # both are true"
      ],
      "execution_count": 29,
      "outputs": [
        {
          "output_type": "stream",
          "name": "stdout",
          "text": [
            "False\n",
            "True\n"
          ]
        }
      ]
    },
    {
      "cell_type": "markdown",
      "metadata": {
        "id": "69Q2ZkRwWy8V"
      },
      "source": [
        "Looping (Indentation very important here!)"
      ]
    },
    {
      "cell_type": "code",
      "metadata": {
        "colab": {
          "base_uri": "https://localhost:8080/"
        },
        "id": "AW7LQ2lwW0F4",
        "outputId": "72347857-3917-47cb-e865-ece9146b7d84"
      },
      "source": [
        "if (a > 0):  #Set condition\n",
        "  # MUST INDENT\n",
        "  print('Nonzero!') #Action if condition True\n"
      ],
      "execution_count": 31,
      "outputs": [
        {
          "output_type": "stream",
          "name": "stdout",
          "text": [
            "Nonzero!\n"
          ]
        }
      ]
    },
    {
      "cell_type": "code",
      "metadata": {
        "colab": {
          "base_uri": "https://localhost:8080/"
        },
        "id": "VIpcXBGTXXTh",
        "outputId": "d6641f20-43f8-4608-aaca-be009392c37a"
      },
      "source": [
        "test_list = [1,2,3,4,5]\n",
        "len(test_list) # get length with len function"
      ],
      "execution_count": 32,
      "outputs": [
        {
          "output_type": "execute_result",
          "data": {
            "text/plain": [
              "5"
            ]
          },
          "metadata": {},
          "execution_count": 32
        }
      ]
    },
    {
      "cell_type": "code",
      "metadata": {
        "colab": {
          "base_uri": "https://localhost:8080/"
        },
        "id": "RWnb66v2W0Is",
        "outputId": "be503ded-7e4d-4c2a-b195-e20b12033b35"
      },
      "source": [
        "for i in range(len(test_list)): #Range will give you values from 0:5 (0,1,2,3,4)\n",
        "  i += 1 #Equivalent to i = i + 1, therefore add one to every item in the list\n",
        "  print(i)"
      ],
      "execution_count": 34,
      "outputs": [
        {
          "output_type": "stream",
          "name": "stdout",
          "text": [
            "1\n",
            "2\n",
            "3\n",
            "4\n",
            "5\n"
          ]
        }
      ]
    },
    {
      "cell_type": "code",
      "metadata": {
        "colab": {
          "base_uri": "https://localhost:8080/"
        },
        "id": "kvfFKVvAXTCQ",
        "outputId": "6244a78f-96e8-4892-96ba-5032c56afc31"
      },
      "source": [
        "z = 5\n",
        "while (z > 0): #while(TRUE) # count down z until it reaches 0\n",
        "  z -= 1\n",
        "  print(z)"
      ],
      "execution_count": 35,
      "outputs": [
        {
          "output_type": "stream",
          "name": "stdout",
          "text": [
            "4\n",
            "3\n",
            "2\n",
            "1\n",
            "0\n"
          ]
        }
      ]
    },
    {
      "cell_type": "code",
      "metadata": {
        "colab": {
          "base_uri": "https://localhost:8080/"
        },
        "id": "OhWRX0tRXTFQ",
        "outputId": "3a7d97d4-d534-4ccd-a03d-c0b725306aa6"
      },
      "source": [
        "#Use += with lists\n",
        "\n",
        "#Add things to empty list\n",
        "example = [] # create empty list\n",
        "\n",
        "example += [2] # add 2 to list\n",
        "\n",
        "example += [3] # add 3 to end of list\n",
        "\n",
        "example += [4] # and so on\n",
        "\n",
        "example"
      ],
      "execution_count": 37,
      "outputs": [
        {
          "output_type": "execute_result",
          "data": {
            "text/plain": [
              "[2, 3, 4]"
            ]
          },
          "metadata": {},
          "execution_count": 37
        }
      ]
    },
    {
      "cell_type": "markdown",
      "metadata": {
        "id": "XrDmd-D7W0YP"
      },
      "source": [
        "List Comprehension (looping through lists and operating on items)"
      ]
    },
    {
      "cell_type": "code",
      "metadata": {
        "id": "_RlriigeW4V1",
        "outputId": "494ca40d-2cb4-481a-f67c-d098319feca0",
        "colab": {
          "base_uri": "https://localhost:8080/"
        }
      },
      "source": [
        "#Loops within list\n",
        "fruits = [\"apple\", \"banana\", \"cherry\", \"kiwi\", \"mango\"]\n",
        "\n",
        "# create new list if original list item has an a in it\n",
        "# for every item in original \"fruits\" list has an a, return that item in a new list\n",
        "newlist = [x for x in fruits if \"a\" in x] \n",
        "\n",
        "print(newlist)"
      ],
      "execution_count": 40,
      "outputs": [
        {
          "output_type": "stream",
          "name": "stdout",
          "text": [
            "['apple', 'banana', 'mango']\n"
          ]
        }
      ]
    },
    {
      "cell_type": "code",
      "metadata": {
        "id": "4pwGFFqUW4Ym"
      },
      "source": [
        ""
      ],
      "execution_count": null,
      "outputs": []
    },
    {
      "cell_type": "markdown",
      "metadata": {
        "id": "-iw2NQcChw9n"
      },
      "source": [
        "**Task 3**\n",
        "\n",
        "Given dictionary of values, and list of possibly keys, create list of the corresponding values for each key (obs)\n",
        "\n"
      ]
    },
    {
      "cell_type": "code",
      "metadata": {
        "id": "h26QlNUgl_SX"
      },
      "source": [
        "prices = {'Tea':3,'Coffee':2.50,'Juice':3.50,'Smoothie':4}\n",
        "\n",
        "orders = ['Tea','Coffee','Coffee','Coffee','Coffee','Smoothie','Juice','Coffee']"
      ],
      "execution_count": 42,
      "outputs": []
    },
    {
      "cell_type": "code",
      "metadata": {
        "colab": {
          "base_uri": "https://localhost:8080/"
        },
        "id": "UJnEfN5zogxD",
        "outputId": "3338dbf3-4af0-417b-84b0-9c21216e34c6"
      },
      "source": [
        "# Answer\n",
        "# Get list of prices of all orders that day\n",
        "\n"
      ],
      "execution_count": null,
      "outputs": [
        {
          "output_type": "execute_result",
          "data": {
            "text/plain": [
              "[3, 2.5, 2.5, 2.5, 2.5, 4, 3.5, 2.5]"
            ]
          },
          "metadata": {},
          "execution_count": 53
        }
      ]
    },
    {
      "cell_type": "code",
      "metadata": {
        "colab": {
          "base_uri": "https://localhost:8080/"
        },
        "id": "gy3KA9o2p5f4",
        "outputId": "da25036a-420c-43e1-c3b5-515a8aeded3f"
      },
      "source": [
        "# Answer\n",
        "prices_l = [prices[i] for i in orders]\n",
        "prices_l\n"
      ],
      "execution_count": 44,
      "outputs": [
        {
          "output_type": "execute_result",
          "data": {
            "text/plain": [
              "[3, 2.5, 2.5, 2.5, 2.5, 4, 3.5, 2.5]"
            ]
          },
          "metadata": {},
          "execution_count": 44
        }
      ]
    },
    {
      "cell_type": "markdown",
      "metadata": {
        "id": "MftwR3ypLEtM"
      },
      "source": [
        "## **Functions**"
      ]
    },
    {
      "cell_type": "markdown",
      "metadata": {
        "id": "foxnxM1XqhuU"
      },
      "source": [
        "Define functions when you have a task you want to run multiple times, possibly on different inputs"
      ]
    },
    {
      "cell_type": "code",
      "metadata": {
        "colab": {
          "base_uri": "https://localhost:8080/"
        },
        "id": "-zNezF7pLJMN",
        "outputId": "67de0019-bd9b-41d8-b7f7-b51c35979e56"
      },
      "source": [
        "# define the function\n",
        "def say_hello():\n",
        "  print('Hello world!') #tell the function what to do\n",
        "\n",
        "say_hello()\n",
        "say_hello()"
      ],
      "execution_count": 45,
      "outputs": [
        {
          "output_type": "stream",
          "name": "stdout",
          "text": [
            "Hello world!\n",
            "Hello world!\n"
          ]
        }
      ]
    },
    {
      "cell_type": "code",
      "metadata": {
        "id": "lWp1iTfFql8s"
      },
      "source": [
        "def mean(values): # could use any word to replace \"values\" but be consistent within the function\n",
        "  avg = sum(values)/len(values)\n",
        "  return avg"
      ],
      "execution_count": 47,
      "outputs": []
    },
    {
      "cell_type": "code",
      "metadata": {
        "colab": {
          "base_uri": "https://localhost:8080/"
        },
        "id": "OUPr4qcQu2A4",
        "outputId": "349e3df5-3910-4ec0-e3ff-17aec72d3f4a"
      },
      "source": [
        "mean([1,2,3])"
      ],
      "execution_count": null,
      "outputs": [
        {
          "output_type": "execute_result",
          "data": {
            "text/plain": [
              "2.0"
            ]
          },
          "metadata": {},
          "execution_count": 60
        }
      ]
    },
    {
      "cell_type": "code",
      "metadata": {
        "id": "vVixtWVi8e9_",
        "outputId": "8bc2d093-91cf-4ac1-b161-29dca43ccf62",
        "colab": {
          "base_uri": "https://localhost:8080/"
        }
      },
      "source": [
        "mean([8,6,7,5,3,0,9])"
      ],
      "execution_count": 48,
      "outputs": [
        {
          "output_type": "execute_result",
          "data": {
            "text/plain": [
              "5.428571428571429"
            ]
          },
          "metadata": {},
          "execution_count": 48
        }
      ]
    },
    {
      "cell_type": "markdown",
      "metadata": {
        "id": "wv6Sn9j4LNDa"
      },
      "source": [
        "## **Useful Packages and Data Types**"
      ]
    },
    {
      "cell_type": "markdown",
      "metadata": {
        "id": "KVO0mEq-rqgj"
      },
      "source": [
        "Numpy (faster calculations with arrays/matrices)"
      ]
    },
    {
      "cell_type": "code",
      "metadata": {
        "colab": {
          "base_uri": "https://localhost:8080/"
        },
        "id": "6fXrkeuzLP12",
        "outputId": "df0cc4b7-fe55-4892-9d0c-c2a4dcf4eb46"
      },
      "source": [
        "import numpy as np #np is abbreviation\n",
        "\n",
        "#Call functions within numpy package\n",
        "np.mean([1,2,3])"
      ],
      "execution_count": 49,
      "outputs": [
        {
          "output_type": "execute_result",
          "data": {
            "text/plain": [
              "2.0"
            ]
          },
          "metadata": {},
          "execution_count": 49
        }
      ]
    },
    {
      "cell_type": "code",
      "metadata": {
        "colab": {
          "base_uri": "https://localhost:8080/"
        },
        "id": "M_ZvYmkPvlv0",
        "outputId": "07b45a73-56cd-4ba5-e02c-d516fdf41653"
      },
      "source": [
        "arr = np.array([1, 2, 3, 4, 5])\n",
        "arr.mean() # can use mean function on an np object"
      ],
      "execution_count": 50,
      "outputs": [
        {
          "output_type": "execute_result",
          "data": {
            "text/plain": [
              "3.0"
            ]
          },
          "metadata": {},
          "execution_count": 50
        }
      ]
    },
    {
      "cell_type": "code",
      "metadata": {
        "colab": {
          "base_uri": "https://localhost:8080/"
        },
        "id": "sSdOsbPjvuI-",
        "outputId": "a68af7e1-5562-4e3b-e69d-f62d130695ca"
      },
      "source": [
        "arr[4] = 6 # replace list item\n",
        "print(arr) # print the entire list\n",
        "print(arr[::2]) #Every other value # all rows, all columns, count by 2"
      ],
      "execution_count": 53,
      "outputs": [
        {
          "output_type": "stream",
          "name": "stdout",
          "text": [
            "[1 2 3 4 6]\n",
            "[1 3 6]\n"
          ]
        }
      ]
    },
    {
      "cell_type": "code",
      "metadata": {
        "colab": {
          "base_uri": "https://localhost:8080/"
        },
        "id": "entb3jxev1AP",
        "outputId": "359be1d7-08ef-421d-bcaf-c491ae3e4e04"
      },
      "source": [
        "arr = np.zeros((2,3))"
      ],
      "execution_count": null,
      "outputs": [
        {
          "output_type": "execute_result",
          "data": {
            "text/plain": [
              "array([[0., 0., 0.],\n",
              "       [0., 0., 0.]])"
            ]
          },
          "metadata": {},
          "execution_count": 66
        }
      ]
    },
    {
      "cell_type": "markdown",
      "metadata": {
        "id": "E22GWy07rrbg"
      },
      "source": [
        "Pandas"
      ]
    },
    {
      "cell_type": "code",
      "metadata": {
        "id": "q_buqZiZrr5M"
      },
      "source": [
        "import pandas as pd"
      ],
      "execution_count": 54,
      "outputs": []
    },
    {
      "cell_type": "code",
      "metadata": {
        "id": "31MMAhHDwMBv"
      },
      "source": [
        "df = pd.DataFrame() #Large lookup table/dictionary"
      ],
      "execution_count": 55,
      "outputs": []
    },
    {
      "cell_type": "code",
      "metadata": {
        "colab": {
          "base_uri": "https://localhost:8080/",
          "height": 173
        },
        "id": "v3jcF-hfwME3",
        "outputId": "944c74c2-b121-4dd3-97f5-fc5110c6156e"
      },
      "source": [
        "df['Names'] = ['Amy','James','Kelly','Ben'] # names is column title\n",
        "df['Age'] = [22,24,26,23] # add new column for ages\n",
        "\n",
        "df"
      ],
      "execution_count": 57,
      "outputs": [
        {
          "output_type": "execute_result",
          "data": {
            "text/html": [
              "<div>\n",
              "<style scoped>\n",
              "    .dataframe tbody tr th:only-of-type {\n",
              "        vertical-align: middle;\n",
              "    }\n",
              "\n",
              "    .dataframe tbody tr th {\n",
              "        vertical-align: top;\n",
              "    }\n",
              "\n",
              "    .dataframe thead th {\n",
              "        text-align: right;\n",
              "    }\n",
              "</style>\n",
              "<table border=\"1\" class=\"dataframe\">\n",
              "  <thead>\n",
              "    <tr style=\"text-align: right;\">\n",
              "      <th></th>\n",
              "      <th>Names</th>\n",
              "      <th>Age</th>\n",
              "    </tr>\n",
              "  </thead>\n",
              "  <tbody>\n",
              "    <tr>\n",
              "      <th>0</th>\n",
              "      <td>Amy</td>\n",
              "      <td>22</td>\n",
              "    </tr>\n",
              "    <tr>\n",
              "      <th>1</th>\n",
              "      <td>James</td>\n",
              "      <td>24</td>\n",
              "    </tr>\n",
              "    <tr>\n",
              "      <th>2</th>\n",
              "      <td>Kelly</td>\n",
              "      <td>26</td>\n",
              "    </tr>\n",
              "    <tr>\n",
              "      <th>3</th>\n",
              "      <td>Ben</td>\n",
              "      <td>23</td>\n",
              "    </tr>\n",
              "  </tbody>\n",
              "</table>\n",
              "</div>"
            ],
            "text/plain": [
              "   Names  Age\n",
              "0    Amy   22\n",
              "1  James   24\n",
              "2  Kelly   26\n",
              "3    Ben   23"
            ]
          },
          "metadata": {},
          "execution_count": 57
        }
      ]
    },
    {
      "cell_type": "code",
      "metadata": {
        "colab": {
          "base_uri": "https://localhost:8080/"
        },
        "id": "KaEpOUYMwPnt",
        "outputId": "45901a38-3363-440a-e6c6-05eeaa6d596b"
      },
      "source": [
        "df.Names #Same as df['Names']"
      ],
      "execution_count": null,
      "outputs": [
        {
          "output_type": "execute_result",
          "data": {
            "text/plain": [
              "0      Amy\n",
              "1    James\n",
              "2    Kelly\n",
              "3      Ben\n",
              "Name: Names, dtype: object"
            ]
          },
          "metadata": {},
          "execution_count": 72
        }
      ]
    },
    {
      "cell_type": "code",
      "metadata": {
        "colab": {
          "base_uri": "https://localhost:8080/"
        },
        "id": "L1nalilAwoJJ",
        "outputId": "f53bfb59-e026-4b51-e861-0016bd540717"
      },
      "source": [
        "df['Names'].isin(['Amy','Kelly']) # where are the names amy or kelly in \"names\" column"
      ],
      "execution_count": 58,
      "outputs": [
        {
          "output_type": "execute_result",
          "data": {
            "text/plain": [
              "0     True\n",
              "1    False\n",
              "2     True\n",
              "3    False\n",
              "Name: Names, dtype: bool"
            ]
          },
          "metadata": {},
          "execution_count": 58
        }
      ]
    },
    {
      "cell_type": "code",
      "metadata": {
        "colab": {
          "base_uri": "https://localhost:8080/",
          "height": 111
        },
        "id": "lfPbPNLOwtu8",
        "outputId": "860cfe33-cd3c-49d0-c1f3-2adec81f98ba"
      },
      "source": [
        "#Subset your dataframe with conditions\n",
        "df[df['Names'].isin(['Amy','Kelly'])]"
      ],
      "execution_count": 59,
      "outputs": [
        {
          "output_type": "execute_result",
          "data": {
            "text/html": [
              "<div>\n",
              "<style scoped>\n",
              "    .dataframe tbody tr th:only-of-type {\n",
              "        vertical-align: middle;\n",
              "    }\n",
              "\n",
              "    .dataframe tbody tr th {\n",
              "        vertical-align: top;\n",
              "    }\n",
              "\n",
              "    .dataframe thead th {\n",
              "        text-align: right;\n",
              "    }\n",
              "</style>\n",
              "<table border=\"1\" class=\"dataframe\">\n",
              "  <thead>\n",
              "    <tr style=\"text-align: right;\">\n",
              "      <th></th>\n",
              "      <th>Names</th>\n",
              "      <th>Age</th>\n",
              "    </tr>\n",
              "  </thead>\n",
              "  <tbody>\n",
              "    <tr>\n",
              "      <th>0</th>\n",
              "      <td>Amy</td>\n",
              "      <td>22</td>\n",
              "    </tr>\n",
              "    <tr>\n",
              "      <th>2</th>\n",
              "      <td>Kelly</td>\n",
              "      <td>26</td>\n",
              "    </tr>\n",
              "  </tbody>\n",
              "</table>\n",
              "</div>"
            ],
            "text/plain": [
              "   Names  Age\n",
              "0    Amy   22\n",
              "2  Kelly   26"
            ]
          },
          "metadata": {},
          "execution_count": 59
        }
      ]
    },
    {
      "cell_type": "markdown",
      "metadata": {
        "id": "J4UZUOPCrsVk"
      },
      "source": [
        "sklearn"
      ]
    },
    {
      "cell_type": "code",
      "metadata": {
        "colab": {
          "base_uri": "https://localhost:8080/"
        },
        "id": "sf6LWY_Brtec",
        "outputId": "36130449-4355-4e30-a539-a42b5c62c204"
      },
      "source": [
        "\n",
        "from sklearn import datasets, linear_model\n",
        "from sklearn.metrics import mean_squared_error, r2_score #From metrics Class within sklearn, import functions ...\n",
        "\n",
        "# Load the diabetes dataset\n",
        "diabetes_X, diabetes_y = datasets.load_diabetes(return_X_y=True)\n",
        "\n",
        "# Use only one feature\n",
        "diabetes_X = diabetes_X[:, np.newaxis, 2]\n",
        "\n",
        "# Split the data into training/testing sets\n",
        "diabetes_X_train = diabetes_X[:-20] #BP values\n",
        "diabetes_X_test = diabetes_X[-20:]\n",
        "\n",
        "print(diabetes_X_train.shape)\n",
        "\n",
        "print(diabetes_X_test.shape)\n",
        "\n"
      ],
      "execution_count": 61,
      "outputs": [
        {
          "output_type": "stream",
          "name": "stdout",
          "text": [
            "(422, 1)\n",
            "(20, 1)\n"
          ]
        }
      ]
    },
    {
      "cell_type": "code",
      "metadata": {
        "id": "_X737XJRy4y8"
      },
      "source": [
        "# Split the targets into training/testing sets\n",
        "diabetes_y_train = diabetes_y[:-20] #Glucose levels\n",
        "diabetes_y_test = diabetes_y[-20:]\n",
        "\n",
        "# Create linear regression object\n",
        "regr = linear_model.LinearRegression()\n",
        "\n",
        "# Train the model using the training sets\n",
        "regr.fit(diabetes_X_train, diabetes_y_train)\n",
        "\n",
        "# Make predictions using the testing set\n",
        "diabetes_y_pred = regr.predict(diabetes_X_test)\n",
        "\n",
        "\n"
      ],
      "execution_count": 62,
      "outputs": []
    },
    {
      "cell_type": "code",
      "metadata": {
        "id": "EU7BRMyx2QIT"
      },
      "source": [
        "# The coefficients\n",
        "print('Coefficients: \\n', regr.coef_)\n",
        "# The mean squared error\n",
        "print('Mean squared error: %.2f'\n",
        "      % mean_squared_error(diabetes_y_test, diabetes_y_pred))\n",
        "# The coefficient of determination: 1 is perfect prediction\n",
        "print('Coefficient of determination: %.2f'\n",
        "      % r2_score(diabetes_y_test, diabetes_y_pred))"
      ],
      "execution_count": null,
      "outputs": []
    },
    {
      "cell_type": "markdown",
      "metadata": {
        "id": "ZbVbDCyUydS6"
      },
      "source": [
        "Plot"
      ]
    },
    {
      "cell_type": "code",
      "metadata": {
        "colab": {
          "base_uri": "https://localhost:8080/",
          "height": 252
        },
        "id": "o0_DCKi8ycmQ",
        "outputId": "91197651-077f-43a1-c3b7-b04e296a0a45"
      },
      "source": [
        "import matplotlib.pyplot as plt #Most generic plotting package\n",
        "\n",
        "# Plot outputs\n",
        "plt.scatter(diabetes_X_test, diabetes_y_test,  color='black')\n",
        "plt.plot(diabetes_X_test, diabetes_y_pred, color='blue', linewidth=3)\n",
        "\n",
        "plt.xticks(())\n",
        "plt.yticks(())\n",
        "\n",
        "plt.show()"
      ],
      "execution_count": null,
      "outputs": [
        {
          "output_type": "display_data",
          "data": {
            "image/png": "[encoded data removed]",
            "text/plain": [
              "<Figure size 432x288 with 1 Axes>"
            ]
          },
          "metadata": {}
        }
      ]
    },
    {
      "cell_type": "code",
      "metadata": {
        "id": "DAd41XGKrudM"
      },
      "source": [
        "#Seaborn, scipy (stats), many other packages"
      ],
      "execution_count": null,
      "outputs": []
    },
    {
      "cell_type": "markdown",
      "metadata": {
        "id": "vZycF9K2sQp5"
      },
      "source": [
        "Setting up environments so that packages/code is reproducible\n",
        "\n",
        "https://conda.io/projects/conda/en/latest/user-guide/tasks/manage-environments.html#creating-an-environment-with-commands "
      ]
    },
    {
      "cell_type": "code",
      "metadata": {
        "id": "-DrvNV82sVAC"
      },
      "source": [
        ""
      ],
      "execution_count": null,
      "outputs": []
    },
    {
      "cell_type": "markdown",
      "metadata": {
        "id": "nDB89z3vz4ap"
      },
      "source": [
        "**Combining Functions, Packages, Plotting**"
      ]
    },
    {
      "cell_type": "code",
      "metadata": {
        "id": "E8jr79a1z79E"
      },
      "source": [
        "#BE 150 at Caltech, http://be150.caltech.edu/2020/content/lessons/12_stochastic_simulation.html\n",
        "\n",
        "def simulate_coinflips(n, p, size=1):\n",
        "    \"\"\"\n",
        "    Simulate n_samples sets of n coin flips with prob. p of heads.\n",
        "    \"\"\"\n",
        "    n_heads = np.empty(size, dtype=int)\n",
        "    for i in range(size): #0:size\n",
        "        n_heads[i] = np.sum(np.random.random(size=n) < p)  #Return random floats in the half-open interval [0.0, 1.0)\n",
        "    return n_heads\n",
        "\n"
      ],
      "execution_count": null,
      "outputs": []
    },
    {
      "cell_type": "code",
      "metadata": {
        "colab": {
          "base_uri": "https://localhost:8080/"
        },
        "id": "1r316izW3zbX",
        "outputId": "d07f6ac2-8347-4bf2-c9c3-69dca2f2146e"
      },
      "source": [
        "np.random.random(2) #Return random floats in the half-open interval [0.0, 1.0)"
      ],
      "execution_count": null,
      "outputs": [
        {
          "output_type": "execute_result",
          "data": {
            "text/plain": [
              "array([0.76261787, 0.75197086])"
            ]
          },
          "metadata": {},
          "execution_count": 89
        }
      ]
    },
    {
      "cell_type": "code",
      "metadata": {
        "colab": {
          "base_uri": "https://localhost:8080/"
        },
        "id": "kS8Q-auZ0GXW",
        "outputId": "56b1b7ba-dddc-4825-fcc5-e17bbecf2bec"
      },
      "source": [
        "size = 10 #number of samples from distribution\n",
        "\n",
        "n = 25 #n tosses\n",
        "p = 0.25 #probability of heads\n",
        "\n",
        "\n",
        "\n",
        "h = simulate_coinflips(n, p, size)\n",
        "\n",
        "h"
      ],
      "execution_count": null,
      "outputs": [
        {
          "output_type": "execute_result",
          "data": {
            "text/plain": [
              "array([ 5,  4,  5,  4,  7, 11, 10,  7,  5,  5])"
            ]
          },
          "metadata": {},
          "execution_count": 83
        }
      ]
    },
    {
      "cell_type": "code",
      "metadata": {
        "colab": {
          "base_uri": "https://localhost:8080/",
          "height": 316
        },
        "id": "nCfWOPp02E4i",
        "outputId": "d52ec51e-701d-4ffc-9960-c1d31b769c68"
      },
      "source": [
        "plt.hist(h)"
      ],
      "execution_count": null,
      "outputs": [
        {
          "output_type": "execute_result",
          "data": {
            "text/plain": [
              "(array([2., 4., 0., 0., 2., 0., 0., 0., 1., 1.]),\n",
              " array([ 4. ,  4.7,  5.4,  6.1,  6.8,  7.5,  8.2,  8.9,  9.6, 10.3, 11. ]),\n",
              " <a list of 10 Patch objects>)"
            ]
          },
          "metadata": {},
          "execution_count": 84
        },
        {
          "output_type": "display_data",
          "data": {
            "image/png": "[encoded data removed]",
            "text/plain": [
              "<Figure size 432x288 with 1 Axes>"
            ]
          },
          "metadata": {
            "needs_background": "light"
          }
        }
      ]
    },
    {
      "cell_type": "code",
      "metadata": {
        "id": "irJ3mG5E2PMo"
      },
      "source": [
        "import scipy.stats as st"
      ],
      "execution_count": null,
      "outputs": []
    },
    {
      "cell_type": "code",
      "metadata": {
        "colab": {
          "base_uri": "https://localhost:8080/",
          "height": 265
        },
        "id": "3mI1F7Wd0vKg",
        "outputId": "dd073a5b-f0fe-408e-909b-d6fb14353698"
      },
      "source": [
        "h_plot = np.arange(26) #0:26 --> 0,1,2....25\n",
        "\n",
        "theor_dist = st.binom.pmf(h_plot, n, p)\n",
        "\n",
        "plt.scatter(h_plot, theor_dist)\n",
        "\n",
        "plt.show()"
      ],
      "execution_count": null,
      "outputs": [
        {
          "output_type": "display_data",
          "data": {
            "image/png": "[encoded data removed]",
            "text/plain": [
              "<Figure size 432x288 with 1 Axes>"
            ]
          },
          "metadata": {
            "needs_background": "light"
          }
        }
      ]
    },
    {
      "cell_type": "code",
      "metadata": {
        "id": "khkS0UdO2LyA"
      },
      "source": [
        ""
      ],
      "execution_count": null,
      "outputs": []
    },
    {
      "cell_type": "markdown",
      "metadata": {
        "id": "kfwllunw2xFt"
      },
      "source": [
        "Installing specific versions of packages\n",
        "\n",
        "https://pypi.org/project/matplotlib/   (Example)"
      ]
    },
    {
      "cell_type": "code",
      "metadata": {
        "id": "egfTGoot2yqc"
      },
      "source": [
        "!pip3 install --quiet matplotlib==3.4.3"
      ],
      "execution_count": null,
      "outputs": []
    },
    {
      "cell_type": "code",
      "metadata": {
        "id": "K2VXMt_v3Rzu"
      },
      "source": [
        ""
      ],
      "execution_count": null,
      "outputs": []
    },
    {
      "cell_type": "markdown",
      "metadata": {
        "id": "oGZWdZaz3TCJ"
      },
      "source": [
        "## **Run your own python file from the command line**"
      ]
    },
    {
      "cell_type": "markdown",
      "metadata": {
        "id": "wbeIzw6qzurc"
      },
      "source": [
        "Download file from https://caltech.box.com/s/ntbdhbm7wf5gfsdtj8d5g1j59m6162kg "
      ]
    },
    {
      "cell_type": "markdown",
      "metadata": {
        "id": "Cx4t9xkizxSp"
      },
      "source": [
        "Drag file into Colab files"
      ]
    },
    {
      "cell_type": "code",
      "metadata": {
        "colab": {
          "base_uri": "https://localhost:8080/"
        },
        "id": "zTu_XOrT3R3M",
        "outputId": "a823ad84-d36c-470b-c58b-94622452743b"
      },
      "source": [
        "!python run.py"
      ],
      "execution_count": null,
      "outputs": [
        {
          "output_type": "stream",
          "name": "stdout",
          "text": [
            "Hello World!\n",
            "Hello World!\n"
          ]
        }
      ]
    },
    {
      "cell_type": "markdown",
      "metadata": {
        "id": "8C56-fKx7VEQ"
      },
      "source": [
        "**Task 4**\n",
        "\n",
        "Run coin flip simulations for a list of different sample sizes, print mean number of heads in 25 tosses for each sample."
      ]
    },
    {
      "cell_type": "code",
      "metadata": {
        "id": "7emWSLfe4QcV"
      },
      "source": [
        "# Answer\n",
        "\n"
      ],
      "execution_count": null,
      "outputs": []
    },
    {
      "cell_type": "markdown",
      "metadata": {
        "id": "TcpmMIKT8LBh"
      },
      "source": [
        "## **Classes**"
      ]
    },
    {
      "cell_type": "code",
      "metadata": {
        "id": "y2_rDPgq8MXs"
      },
      "source": [
        "class person():\n",
        "\n",
        "  def __init__(self):\n",
        "    self.name = ''\n",
        "\n",
        "  def setName(self,nameString):\n",
        "    self.name = nameString\n",
        "\n",
        "  def getName(self):\n",
        "    return self.name"
      ],
      "execution_count": null,
      "outputs": []
    },
    {
      "cell_type": "code",
      "metadata": {
        "colab": {
          "base_uri": "https://localhost:8080/",
          "height": 35
        },
        "id": "lN10-WZ08O5f",
        "outputId": "1b85b77a-a447-44d2-b9ce-05e872208a9b"
      },
      "source": [
        "p = person()\n",
        "p.name"
      ],
      "execution_count": null,
      "outputs": [
        {
          "output_type": "execute_result",
          "data": {
            "application/vnd.google.colaboratory.intrinsic+json": {
              "type": "string"
            },
            "text/plain": [
              "''"
            ]
          },
          "metadata": {},
          "execution_count": 102
        }
      ]
    },
    {
      "cell_type": "code",
      "metadata": {
        "id": "vBUFZO5r8gFr"
      },
      "source": [
        "p.setName('Tara')"
      ],
      "execution_count": null,
      "outputs": []
    },
    {
      "cell_type": "code",
      "metadata": {
        "colab": {
          "base_uri": "https://localhost:8080/",
          "height": 35
        },
        "id": "zAV_iyFK8j1j",
        "outputId": "82a697f7-0848-40e3-f0a9-5d4a94687fc2"
      },
      "source": [
        "p.getName()"
      ],
      "execution_count": null,
      "outputs": [
        {
          "output_type": "execute_result",
          "data": {
            "application/vnd.google.colaboratory.intrinsic+json": {
              "type": "string"
            },
            "text/plain": [
              "'Tara'"
            ]
          },
          "metadata": {},
          "execution_count": 104
        }
      ]
    },
    {
      "cell_type": "code",
      "metadata": {
        "id": "n7egQUA18lrU"
      },
      "source": [
        ""
      ],
      "execution_count": null,
      "outputs": []
    }
  ]
}